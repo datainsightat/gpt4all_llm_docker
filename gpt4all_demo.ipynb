{
 "cells": [
  {
   "cell_type": "markdown",
   "id": "fd069689-8382-4d8b-8e79-2c70ac9f09a9",
   "metadata": {},
   "source": [
    "# GPT4All Demo"
   ]
  },
  {
   "cell_type": "markdown",
   "id": "ba71f84c-91e9-42ee-9f72-b74abcf85f54",
   "metadata": {},
   "source": [
    "Source:\n",
    "- https://github.com/nomic-ai/gpt4all\n",
    "- https://github.com/nomic-ai/nomic"
   ]
  },
  {
   "cell_type": "code",
   "execution_count": 1,
   "id": "76d9b81b-399d-493b-bf4f-0319256cd0ae",
   "metadata": {},
   "outputs": [],
   "source": [
    "from nomic.gpt4all import GPT4All"
   ]
  },
  {
   "cell_type": "code",
   "execution_count": null,
   "id": "f3056dc6-820f-44b5-a0c5-87e751870f58",
   "metadata": {},
   "outputs": [
    {
     "name": "stderr",
     "output_type": "stream",
     "text": [
      "\u001b[32m2023-04-14 14:34:03.475\u001b[0m | \u001b[1mINFO    \u001b[0m | \u001b[36mnomic.gpt4all.gpt4all\u001b[0m:\u001b[36m__init__\u001b[0m:\u001b[36m77\u001b[0m - \u001b[1mDownloading executable...\u001b[0m\n",
      "51KB [00:00, 529.02KB/s]                                                                                                                                                                                                                                                         \n",
      "\u001b[32m2023-04-14 14:34:03.706\u001b[0m | \u001b[1mINFO    \u001b[0m | \u001b[36mnomic.gpt4all.gpt4all\u001b[0m:\u001b[36m__init__\u001b[0m:\u001b[36m80\u001b[0m - \u001b[1mDownloading model...\u001b[0m\n"
     ]
    },
    {
     "name": "stdout",
     "output_type": "stream",
     "text": [
      "File downloaded successfully to /root/.nomic/gpt4all\n"
     ]
    },
    {
     "name": "stderr",
     "output_type": "stream",
     "text": [
      " 76%|████████████████████████████████████████████████████████████████████████████████████████████████████████████████████████████████████████████████████████████████████████████▎                                                     | 392136/514249 [17:59<2:25:35, 13.98KB/s]"
     ]
    }
   ],
   "source": [
    "m = GPT4All()\n",
    "m.open()"
   ]
  },
  {
   "cell_type": "code",
   "execution_count": null,
   "id": "9df4e792-b5be-499e-b9da-8beba95edd3e",
   "metadata": {},
   "outputs": [],
   "source": [
    "m.prompt('write me a story about a happy robot')"
   ]
  }
 ],
 "metadata": {
  "kernelspec": {
   "display_name": "Python 3 (ipykernel)",
   "language": "python",
   "name": "python3"
  },
  "language_info": {
   "codemirror_mode": {
    "name": "ipython",
    "version": 3
   },
   "file_extension": ".py",
   "mimetype": "text/x-python",
   "name": "python",
   "nbconvert_exporter": "python",
   "pygments_lexer": "ipython3",
   "version": "3.8.10"
  }
 },
 "nbformat": 4,
 "nbformat_minor": 5
}
